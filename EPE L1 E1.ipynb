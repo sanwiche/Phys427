{
 "cells": [
  {
   "cell_type": "code",
   "execution_count": null,
   "id": "d9542974",
   "metadata": {},
   "outputs": [],
   "source": []
  },
  {
   "cell_type": "code",
   "execution_count": 47,
   "id": "1cc6c213",
   "metadata": {},
   "outputs": [
    {
     "name": "stdout",
     "output_type": "stream",
     "text": [
      "Lab 1 Exercise 1\n",
      "mean: [5.99036551]\n",
      "new mean: [-4.56777473e-16]\n",
      "standard deviation: 90.7428674997134\n",
      "new standard deviation: 1.0\n"
     ]
    },
    {
     "data": {
      "text/plain": [
       "Text(0, 0.5, 'y')"
      ]
     },
     "execution_count": 47,
     "metadata": {},
     "output_type": "execute_result"
    },
    {
     "data": {
      "image/png": "[encoded data removed]",
      "text/plain": [
       "<Figure size 640x480 with 1 Axes>"
      ]
     },
     "metadata": {},
     "output_type": "display_data"
    }
   ],
   "source": [
    "#importing necessary libraries. \n",
    "#numpy is used for managing lists, matplotlib is used for setting up histogram, pandas is used for importing data from excel\n",
    "import numpy as np\n",
    "import matplotlib.pyplot as plt\n",
    "import pandas as pd\n",
    "\n",
    "#scale_data function that takes in a list parameter and returns a scaled dataset\n",
    "def scale_data(arr):\n",
    "    print (\"Lab 1 Exercise 1\")\n",
    "    mean = sum(arr)/len(arr)\n",
    "    print (\"mean:\", mean)\n",
    "    for i in range (len(arr)):\n",
    "        arr[i] -= mean\n",
    "    print (\"new mean:\", sum(arr)/len(arr))\n",
    "    #new mean is not exactly 0 but very close to it\n",
    "        \n",
    "    std = np.std(arr)\n",
    "    print (\"standard deviation:\", std)\n",
    "    for i in range(len(arr)):\n",
    "        arr[i] /= std\n",
    "    print (\"new standard deviation:\", np.std(arr))\n",
    "    return arr\n",
    "\n",
    "# replace the insides of '' with file explorer path of excel sheet\n",
    "data = pd.read_excel(r'C:\\Users\\wusar\\Downloads\\Phys427_Labs\\Lab1\\Lab_1_Template\\hgcal.xlsx')\n",
    "\n",
    "#replace 'x' with column of data to scale\n",
    "arr = pd.DataFrame(data, columns=['x']).to_numpy()\n",
    "\n",
    "\n",
    "#updates arr with new, scaled arr\n",
    "arr = scale_data(arr)\n",
    "\n",
    "\n",
    "#sets up histogram\n",
    "x = arr\n",
    "plt.hist(x,bins=22)\n",
    "plt.title(\"adjusted data\")\n",
    "plt.xlabel(\"x\")\n",
    "plt.ylabel(\"y\")\n"
   ]
  },
  {
   "cell_type": "code",
   "execution_count": null,
   "id": "bc3a934d",
   "metadata": {},
   "outputs": [],
   "source": []
  }
 ],
 "metadata": {
  "kernelspec": {
   "display_name": "Python 3 (ipykernel)",
   "language": "python",
   "name": "python3"
  },
  "language_info": {
   "codemirror_mode": {
    "name": "ipython",
    "version": 3
   },
   "file_extension": ".py",
   "mimetype": "text/x-python",
   "name": "python",
   "nbconvert_exporter": "python",
   "pygments_lexer": "ipython3",
   "version": "3.10.9"
  }
 },
 "nbformat": 4,
 "nbformat_minor": 5
}
